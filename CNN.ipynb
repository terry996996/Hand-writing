{
  "cells": [
    {
      "cell_type": "markdown",
      "metadata": {
        "id": "view-in-github",
        "colab_type": "text"
      },
      "source": [
        "<a href=\"https://colab.research.google.com/github/terry996996/Hand-writing/blob/main/CNN.ipynb\" target=\"_parent\"><img src=\"https://colab.research.google.com/assets/colab-badge.svg\" alt=\"Open In Colab\"/></a>"
      ]
    },
    {
      "cell_type": "code",
      "execution_count": 1,
      "metadata": {
        "colab": {
          "base_uri": "https://localhost:8080/"
        },
        "id": "tVyIIybovJJq",
        "outputId": "553a0ac0-14f1-4632-a3de-68e75432b376"
      },
      "outputs": [
        {
          "output_type": "stream",
          "name": "stdout",
          "text": [
            "env: KERAS_BACKEND=tensorflow\n"
          ]
        }
      ],
      "source": [
        "%env KERAS_BACKEND = tensorflow"
      ]
    },
    {
      "cell_type": "code",
      "execution_count": 2,
      "metadata": {
        "id": "LlYkWf6UvOZ-"
      },
      "outputs": [],
      "source": [
        "%matplotlib inline\n",
        "import numpy as np\n",
        "import matplotlib.pyplot as plt"
      ]
    },
    {
      "cell_type": "code",
      "execution_count": 3,
      "metadata": {
        "id": "VGg1tNHWvX2g",
        "colab": {
          "base_uri": "https://localhost:8080/"
        },
        "outputId": "a84d13d8-b389-4a7c-e1b5-ba9028236fde"
      },
      "outputs": [
        {
          "output_type": "stream",
          "name": "stdout",
          "text": [
            "Downloading data from https://storage.googleapis.com/tensorflow/tf-keras-datasets/mnist.npz\n",
            "\u001b[1m11490434/11490434\u001b[0m \u001b[32m━━━━━━━━━━━━━━━━━━━━\u001b[0m\u001b[37m\u001b[0m \u001b[1m2s\u001b[0m 0us/step\n"
          ]
        }
      ],
      "source": [
        "from tensorflow.keras.datasets import mnist\n",
        "from tensorflow.keras.models import Sequential\n",
        "from tensorflow.keras.layers import Dense, Flatten\n",
        "from tensorflow.keras.utils import to_categorical\n",
        "\n",
        "\n",
        "(x_train, y_train), (x_test, y_test) = mnist.load_data()"
      ]
    },
    {
      "cell_type": "code",
      "execution_count": 4,
      "metadata": {
        "colab": {
          "base_uri": "https://localhost:8080/"
        },
        "id": "WuR87XSMvZeV",
        "outputId": "0c49beaf-cf1f-4cb7-e430-bab3f0ad41ab"
      },
      "outputs": [
        {
          "output_type": "execute_result",
          "data": {
            "text/plain": [
              "60000"
            ]
          },
          "metadata": {},
          "execution_count": 4
        }
      ],
      "source": [
        "len(x_train)"
      ]
    },
    {
      "cell_type": "code",
      "execution_count": 5,
      "metadata": {
        "colab": {
          "base_uri": "https://localhost:8080/"
        },
        "id": "iJ1BxnJgva1T",
        "outputId": "aee258b0-4497-4e00-e2cf-241f894e3bc1"
      },
      "outputs": [
        {
          "output_type": "execute_result",
          "data": {
            "text/plain": [
              "60000"
            ]
          },
          "metadata": {},
          "execution_count": 5
        }
      ],
      "source": [
        "len(y_train)"
      ]
    },
    {
      "cell_type": "code",
      "execution_count": 6,
      "metadata": {
        "colab": {
          "base_uri": "https://localhost:8080/"
        },
        "id": "RIiXLz9WvcPu",
        "outputId": "fd81ecdb-2b0d-497e-e625-d3d6100bdede"
      },
      "outputs": [
        {
          "output_type": "execute_result",
          "data": {
            "text/plain": [
              "10000"
            ]
          },
          "metadata": {},
          "execution_count": 6
        }
      ],
      "source": [
        "len(x_test)"
      ]
    },
    {
      "cell_type": "code",
      "execution_count": 7,
      "metadata": {
        "colab": {
          "base_uri": "https://localhost:8080/"
        },
        "id": "Bg-g95B3vdl4",
        "outputId": "76d93fa4-dd09-4d91-f180-100fefa6289b"
      },
      "outputs": [
        {
          "output_type": "execute_result",
          "data": {
            "text/plain": [
              "10000"
            ]
          },
          "metadata": {},
          "execution_count": 7
        }
      ],
      "source": [
        "len(x_test)"
      ]
    },
    {
      "cell_type": "code",
      "execution_count": 8,
      "metadata": {
        "colab": {
          "base_uri": "https://localhost:8080/"
        },
        "id": "2496cpsgvfof",
        "outputId": "b5eebb36-8898-4bcf-f2bf-5d0ca2e31743"
      },
      "outputs": [
        {
          "output_type": "execute_result",
          "data": {
            "text/plain": [
              "(28, 28)"
            ]
          },
          "metadata": {},
          "execution_count": 8
        }
      ],
      "source": [
        "x_train[9487].shape"
      ]
    },
    {
      "cell_type": "code",
      "execution_count": 9,
      "metadata": {
        "colab": {
          "base_uri": "https://localhost:8080/",
          "height": 68
        },
        "id": "oZYVMi0QvhWl",
        "outputId": "97500529-0f1a-4fcb-b53b-e01c96650a93"
      },
      "outputs": [
        {
          "output_type": "execute_result",
          "data": {
            "text/plain": [
              "array([[  0,   0,   0,   0,   0,   0,   0,   0,   0,   0,   0,   0,   0,\n",
              "          0,   0,   0,   0,   0,   0,   0,   0,   0,   0,   0,   0,   0,\n",
              "          0,   0],\n",
              "       [  0,   0,   0,   0,   0,   0,   0,   0,   0,   0,   0,   0,   0,\n",
              "          0,   0,   0,   0,   0,   0,   0,   0,   0,   0,   0,   0,   0,\n",
              "          0,   0],\n",
              "       [  0,   0,   0,   0,   0,   0,   0,   0,   0,   0,   0,   0,   0,\n",
              "          0,   0,   0,   0,   0,   0,   0,   0,   0,   0,   0,   0,   0,\n",
              "          0,   0],\n",
              "       [  0,   0,   0,   0,   0,   0,   0,   0,   0,   0,   0,   0,   0,\n",
              "          0,   0,   0,   0,   0,   0,   0,   0,   0,   0,   0,   0,   0,\n",
              "          0,   0],\n",
              "       [  0,   0,   0,   0,   0,   0,   0,   0,   0,   0,   0,   0, 240,\n",
              "        253, 165,   0,   0,   0,   0,   0,   0,   0,   0,   0,   0,   0,\n",
              "          0,   0],\n",
              "       [  0,   0,   0,   0,   0,   0,   0,   0,   0,   0,   0,  32, 241,\n",
              "        252, 252,   0,   0,   0,   0,   0,   0,   0,   0,   0,   0,   0,\n",
              "          0,   0],\n",
              "       [  0,   0,   0,   0,   0,   0,   0,   0,   0,   0,   2, 141, 252,\n",
              "        252, 252,  98,   0,   0,   0,   0,   0,   0,   0,   0,   0,   0,\n",
              "          0,   0],\n",
              "       [  0,   0,   0,   0,   0,   0,   0,   0,   0,   0,  30, 252, 252,\n",
              "        252, 252, 149,   0,   0,   0,   0,   0,   0,   0,   0,   0,   0,\n",
              "          0,   0],\n",
              "       [  0,   0,   0,   0,   0,   0,   0,   0,   0,   0,  21, 217, 252,\n",
              "        252, 252, 149,   0,   0,   0,   0,   0,   0,   0,   0,   0,   0,\n",
              "          0,   0],\n",
              "       [  0,   0,   0,   0,   0,   0,   0,   0,   0,   0,   0, 134, 252,\n",
              "        252, 252, 223,  31,   0,   0,   0,   0,   0,   0,   0,   0,   0,\n",
              "          0,   0],\n",
              "       [  0,   0,   0,   0,   0,   0,   0,   0,   0,   0,   0, 134, 252,\n",
              "        252, 252, 253,  44,   0,   0,   0,   0,   0,   0,   0,   0,   0,\n",
              "          0,   0],\n",
              "       [  0,   0,   0,   0,   0,   0,   0,   0,   0,   0,   0,   8, 239,\n",
              "        252, 252, 253,  44,   0,   0,   0,   0,   0,   0,   0,   0,   0,\n",
              "          0,   0],\n",
              "       [  0,   0,   0,   0,   0,   0,   0,   0,   0,   0,   0,   0, 238,\n",
              "        252, 252, 253,  44,   0,   0,   0,   0,   0,   0,   0,   0,   0,\n",
              "          0,   0],\n",
              "       [  0,   0,   0,   0,   0,   0,   0,   0,   0,   0,   0,   0, 238,\n",
              "        252, 252, 253,  44,   0,   0,   0,   0,   0,   0,   0,   0,   0,\n",
              "          0,   0],\n",
              "       [  0,   0,   0,   0,   0,   0,   0,   0,   0,   0,   0,   0, 178,\n",
              "        253, 253, 255, 106,   0,   0,   0,   0,   0,   0,   0,   0,   0,\n",
              "          0,   0],\n",
              "       [  0,   0,   0,   0,   0,   0,   0,   0,   0,   0,   0,   0,  90,\n",
              "        252, 252, 253, 206,  21,   0,   0,   0,   0,   0,   0,   0,   0,\n",
              "          0,   0],\n",
              "       [  0,   0,   0,   0,   0,   0,   0,   0,   0,   0,   0,   0,  90,\n",
              "        252, 252, 253, 252,  88,   0,   0,   0,   0,   0,   0,   0,   0,\n",
              "          0,   0],\n",
              "       [  0,   0,   0,   0,   0,   0,   0,   0,   0,   0,   0,   0,  90,\n",
              "        252, 252, 253, 252,  88,   0,   0,   0,   0,   0,   0,   0,   0,\n",
              "          0,   0],\n",
              "       [  0,   0,   0,   0,   0,   0,   0,   0,   0,   0,   0,   0,  63,\n",
              "        234, 252, 253, 252, 220,   0,   0,   0,   0,   0,   0,   0,   0,\n",
              "          0,   0],\n",
              "       [  0,   0,   0,   0,   0,   0,   0,   0,   0,   0,   0,   0,   0,\n",
              "        176, 252, 253, 252, 237,   0,   0,   0,   0,   0,   0,   0,   0,\n",
              "          0,   0],\n",
              "       [  0,   0,   0,   0,   0,   0,   0,   0,   0,   0,   0,   0,   0,\n",
              "         45, 252, 253, 252, 245,  71,   0,   0,   0,   0,   0,   0,   0,\n",
              "          0,   0],\n",
              "       [  0,   0,   0,   0,   0,   0,   0,   0,   0,   0,   0,   0,   0,\n",
              "         29, 215, 253, 252, 237,   8,   0,   0,   0,   0,   0,   0,   0,\n",
              "          0,   0],\n",
              "       [  0,   0,   0,   0,   0,   0,   0,   0,   0,   0,   0,   0,   0,\n",
              "          0, 149, 253, 252, 237,   0,   0,   0,   0,   0,   0,   0,   0,\n",
              "          0,   0],\n",
              "       [  0,   0,   0,   0,   0,   0,   0,   0,   0,   0,   0,   0,   0,\n",
              "          0,  61, 165, 252, 237,   0,   0,   0,   0,   0,   0,   0,   0,\n",
              "          0,   0],\n",
              "       [  0,   0,   0,   0,   0,   0,   0,   0,   0,   0,   0,   0,   0,\n",
              "          0,   0,   0,   0,   0,   0,   0,   0,   0,   0,   0,   0,   0,\n",
              "          0,   0],\n",
              "       [  0,   0,   0,   0,   0,   0,   0,   0,   0,   0,   0,   0,   0,\n",
              "          0,   0,   0,   0,   0,   0,   0,   0,   0,   0,   0,   0,   0,\n",
              "          0,   0],\n",
              "       [  0,   0,   0,   0,   0,   0,   0,   0,   0,   0,   0,   0,   0,\n",
              "          0,   0,   0,   0,   0,   0,   0,   0,   0,   0,   0,   0,   0,\n",
              "          0,   0],\n",
              "       [  0,   0,   0,   0,   0,   0,   0,   0,   0,   0,   0,   0,   0,\n",
              "          0,   0,   0,   0,   0,   0,   0,   0,   0,   0,   0,   0,   0,\n",
              "          0,   0]], dtype=uint8)"
            ],
            "text/html": [
              "<style>\n",
              "      .ndarray_repr .ndarray_raw_data {\n",
              "        display: none;\n",
              "      }\n",
              "      .ndarray_repr.show_array .ndarray_raw_data {\n",
              "        display: block;\n",
              "      }\n",
              "      .ndarray_repr.show_array .ndarray_image_preview {\n",
              "        display: none;\n",
              "      }\n",
              "      </style>\n",
              "      <div id=\"id-49d5197b-95ff-4eb3-a9d2-5c28c3fb8c56\" class=\"ndarray_repr\"><pre>ndarray (28, 28) <button style=\"padding: 0 2px;\">show data</button></pre><img src=\"data:image/png;base64,iVBORw0KGgoAAAANSUhEUgAAABwAAAAcCAAAAABXZoBIAAAAl0lEQVR4nGNgGGDw4e9SnHIKH//8QRFgQmLmcjMwJOHQKPfnz58/U3Ho/H4Xn3va/vz5c18eu06I2bw4dHK8//Pnrw4OnT/+o6lGNxa35BFGRiY7XCqj/vz5e04Uj7F6zkTaiQLsX/35++cOLtkNf/7+eYtLUvfP3z9f3XFIyl7/++ctBw4HPd7HwMDwA5e5tktx20kfAADDmzSMy2qaSgAAAABJRU5ErkJggg==\" class=\"ndarray_image_preview\" /><pre class=\"ndarray_raw_data\">array([[  0,   0,   0,   0,   0,   0,   0,   0,   0,   0,   0,   0,   0,\n",
              "          0,   0,   0,   0,   0,   0,   0,   0,   0,   0,   0,   0,   0,\n",
              "          0,   0],\n",
              "       [  0,   0,   0,   0,   0,   0,   0,   0,   0,   0,   0,   0,   0,\n",
              "          0,   0,   0,   0,   0,   0,   0,   0,   0,   0,   0,   0,   0,\n",
              "          0,   0],\n",
              "       [  0,   0,   0,   0,   0,   0,   0,   0,   0,   0,   0,   0,   0,\n",
              "          0,   0,   0,   0,   0,   0,   0,   0,   0,   0,   0,   0,   0,\n",
              "          0,   0],\n",
              "       [  0,   0,   0,   0,   0,   0,   0,   0,   0,   0,   0,   0,   0,\n",
              "          0,   0,   0,   0,   0,   0,   0,   0,   0,   0,   0,   0,   0,\n",
              "          0,   0],\n",
              "       [  0,   0,   0,   0,   0,   0,   0,   0,   0,   0,   0,   0, 240,\n",
              "        253, 165,   0,   0,   0,   0,   0,   0,   0,   0,   0,   0,   0,\n",
              "          0,   0],\n",
              "       [  0,   0,   0,   0,   0,   0,   0,   0,   0,   0,   0,  32, 241,\n",
              "        252, 252,   0,   0,   0,   0,   0,   0,   0,   0,   0,   0,   0,\n",
              "          0,   0],\n",
              "       [  0,   0,   0,   0,   0,   0,   0,   0,   0,   0,   2, 141, 252,\n",
              "        252, 252,  98,   0,   0,   0,   0,   0,   0,   0,   0,   0,   0,\n",
              "          0,   0],\n",
              "       [  0,   0,   0,   0,   0,   0,   0,   0,   0,   0,  30, 252, 252,\n",
              "        252, 252, 149,   0,   0,   0,   0,   0,   0,   0,   0,   0,   0,\n",
              "          0,   0],\n",
              "       [  0,   0,   0,   0,   0,   0,   0,   0,   0,   0,  21, 217, 252,\n",
              "        252, 252, 149,   0,   0,   0,   0,   0,   0,   0,   0,   0,   0,\n",
              "          0,   0],\n",
              "       [  0,   0,   0,   0,   0,   0,   0,   0,   0,   0,   0, 134, 252,\n",
              "        252, 252, 223,  31,   0,   0,   0,   0,   0,   0,   0,   0,   0,\n",
              "          0,   0],\n",
              "       [  0,   0,   0,   0,   0,   0,   0,   0,   0,   0,   0, 134, 252,\n",
              "        252, 252, 253,  44,   0,   0,   0,   0,   0,   0,   0,   0,   0,\n",
              "          0,   0],\n",
              "       [  0,   0,   0,   0,   0,   0,   0,   0,   0,   0,   0,   8, 239,\n",
              "        252, 252, 253,  44,   0,   0,   0,   0,   0,   0,   0,   0,   0,\n",
              "          0,   0],\n",
              "       [  0,   0,   0,   0,   0,   0,   0,   0,   0,   0,   0,   0, 238,\n",
              "        252, 252, 253,  44,   0,   0,   0,   0,   0,   0,   0,   0,   0,\n",
              "          0,   0],\n",
              "       [  0,   0,   0,   0,   0,   0,   0,   0,   0,   0,   0,   0, 238,\n",
              "        252, 252, 253,  44,   0,   0,   0,   0,   0,   0,   0,   0,   0,\n",
              "          0,   0],\n",
              "       [  0,   0,   0,   0,   0,   0,   0,   0,   0,   0,   0,   0, 178,\n",
              "        253, 253, 255, 106,   0,   0,   0,   0,   0,   0,   0,   0,   0,\n",
              "          0,   0],\n",
              "       [  0,   0,   0,   0,   0,   0,   0,   0,   0,   0,   0,   0,  90,\n",
              "        252, 252, 253, 206,  21,   0,   0,   0,   0,   0,   0,   0,   0,\n",
              "          0,   0],\n",
              "       [  0,   0,   0,   0,   0,   0,   0,   0,   0,   0,   0,   0,  90,\n",
              "        252, 252, 253, 252,  88,   0,   0,   0,   0,   0,   0,   0,   0,\n",
              "          0,   0],\n",
              "       [  0,   0,   0,   0,   0,   0,   0,   0,   0,   0,   0,   0,  90,\n",
              "        252, 252, 253, 252,  88,   0,   0,   0,   0,   0,   0,   0,   0,\n",
              "          0,   0],\n",
              "       [  0,   0,   0,   0,   0,   0,   0,   0,   0,   0,   0,   0,  63,\n",
              "        234, 252, 253, 252, 220,   0,   0,   0,   0,   0,   0,   0,   0,\n",
              "          0,   0],\n",
              "       [  0,   0,   0,   0,   0,   0,   0,   0,   0,   0,   0,   0,   0,\n",
              "        176, 252, 253, 252, 237,   0,   0,   0,   0,   0,   0,   0,   0,\n",
              "          0,   0],\n",
              "       [  0,   0,   0,   0,   0,   0,   0,   0,   0,   0,   0,   0,   0,\n",
              "         45, 252, 253, 252, 245,  71,   0,   0,   0,   0,   0,   0,   0,\n",
              "          0,   0],\n",
              "       [  0,   0,   0,   0,   0,   0,   0,   0,   0,   0,   0,   0,   0,\n",
              "         29, 215, 253, 252, 237,   8,   0,   0,   0,   0,   0,   0,   0,\n",
              "          0,   0],\n",
              "       [  0,   0,   0,   0,   0,   0,   0,   0,   0,   0,   0,   0,   0,\n",
              "          0, 149, 253, 252, 237,   0,   0,   0,   0,   0,   0,   0,   0,\n",
              "          0,   0],\n",
              "       [  0,   0,   0,   0,   0,   0,   0,   0,   0,   0,   0,   0,   0,\n",
              "          0,  61, 165, 252, 237,   0,   0,   0,   0,   0,   0,   0,   0,\n",
              "          0,   0],\n",
              "       [  0,   0,   0,   0,   0,   0,   0,   0,   0,   0,   0,   0,   0,\n",
              "          0,   0,   0,   0,   0,   0,   0,   0,   0,   0,   0,   0,   0,\n",
              "          0,   0],\n",
              "       [  0,   0,   0,   0,   0,   0,   0,   0,   0,   0,   0,   0,   0,\n",
              "          0,   0,   0,   0,   0,   0,   0,   0,   0,   0,   0,   0,   0,\n",
              "          0,   0],\n",
              "       [  0,   0,   0,   0,   0,   0,   0,   0,   0,   0,   0,   0,   0,\n",
              "          0,   0,   0,   0,   0,   0,   0,   0,   0,   0,   0,   0,   0,\n",
              "          0,   0],\n",
              "       [  0,   0,   0,   0,   0,   0,   0,   0,   0,   0,   0,   0,   0,\n",
              "          0,   0,   0,   0,   0,   0,   0,   0,   0,   0,   0,   0,   0,\n",
              "          0,   0]], dtype=uint8)</pre></div><script>\n",
              "      (() => {\n",
              "      const titles = ['show data', 'hide data'];\n",
              "      let index = 0\n",
              "      document.querySelector('#id-49d5197b-95ff-4eb3-a9d2-5c28c3fb8c56 button').onclick = (e) => {\n",
              "        document.querySelector('#id-49d5197b-95ff-4eb3-a9d2-5c28c3fb8c56').classList.toggle('show_array');\n",
              "        index = (++index) % 2;\n",
              "        document.querySelector('#id-49d5197b-95ff-4eb3-a9d2-5c28c3fb8c56 button').textContent = titles[index];\n",
              "        e.preventDefault();\n",
              "        e.stopPropagation();\n",
              "      }\n",
              "      })();\n",
              "    </script>"
            ]
          },
          "metadata": {},
          "execution_count": 9
        }
      ],
      "source": [
        "x_train[9487]"
      ]
    },
    {
      "cell_type": "code",
      "execution_count": 10,
      "metadata": {
        "colab": {
          "base_uri": "https://localhost:8080/"
        },
        "id": "lzX6hQUivig2",
        "outputId": "ac255d6a-e2f2-4013-f23d-154ce0c9eb26"
      },
      "outputs": [
        {
          "output_type": "execute_result",
          "data": {
            "text/plain": [
              "np.uint8(1)"
            ]
          },
          "metadata": {},
          "execution_count": 10
        }
      ],
      "source": [
        "y_train[9487]"
      ]
    },
    {
      "cell_type": "code",
      "source": [
        "print(\"x_train shape:\", x_train.shape)\n",
        "print(\"y_train shape:\", y_train.shape)\n",
        "print(\"x_test shape:\", x_test.shape)\n",
        "print(\"y_test shape:\", y_test.shape)"
      ],
      "metadata": {
        "colab": {
          "base_uri": "https://localhost:8080/"
        },
        "id": "inAzo0TtmIVv",
        "outputId": "ddc048cf-859d-40d3-a45e-c4328b62712d"
      },
      "execution_count": 11,
      "outputs": [
        {
          "output_type": "stream",
          "name": "stdout",
          "text": [
            "x_train shape: (60000, 28, 28)\n",
            "y_train shape: (60000,)\n",
            "x_test shape: (10000, 28, 28)\n",
            "y_test shape: (10000,)\n"
          ]
        }
      ]
    },
    {
      "cell_type": "code",
      "execution_count": 12,
      "metadata": {
        "id": "nUVqkt49vl84"
      },
      "outputs": [],
      "source": [
        "x_train = x_train.reshape(x_train.shape[0], 28, 28, 1)\n",
        "x_test = x_test.reshape(x_test.shape[0], 28, 28, 1)"
      ]
    },
    {
      "cell_type": "code",
      "source": [
        "x_train = x_train.astype('float32') / 255\n",
        "x_test = x_test.astype('float32') / 255"
      ],
      "metadata": {
        "id": "rADDu_zmmWkK"
      },
      "execution_count": 13,
      "outputs": []
    },
    {
      "cell_type": "code",
      "source": [
        "y_train = to_categorical(y_train, 10)\n",
        "y_test = to_categorical(y_test, 10)"
      ],
      "metadata": {
        "id": "M02OfDuZmYlU"
      },
      "execution_count": 14,
      "outputs": []
    },
    {
      "cell_type": "code",
      "source": [
        "print(\"y_train shape after to_categorical:\", y_train.shape)\n",
        "print(\"y_test shape after to_categorical:\", y_test.shape)"
      ],
      "metadata": {
        "colab": {
          "base_uri": "https://localhost:8080/"
        },
        "id": "jbRQEGUQmaMM",
        "outputId": "397c0c22-b12f-4808-fa4b-614fcb816e6f"
      },
      "execution_count": 15,
      "outputs": [
        {
          "output_type": "stream",
          "name": "stdout",
          "text": [
            "y_train shape after to_categorical: (60000, 10)\n",
            "y_test shape after to_categorical: (10000, 10)\n"
          ]
        }
      ]
    },
    {
      "cell_type": "code",
      "execution_count": 16,
      "metadata": {
        "id": "I3VePYYQvpBB",
        "colab": {
          "base_uri": "https://localhost:8080/"
        },
        "outputId": "7546a827-3cae-4f14-f019-b80324322982"
      },
      "outputs": [
        {
          "output_type": "execute_result",
          "data": {
            "text/plain": [
              "array([0., 1., 0., 0., 0., 0., 0., 0., 0., 0.])"
            ]
          },
          "metadata": {},
          "execution_count": 16
        }
      ],
      "source": [
        "y_train[9487]"
      ]
    },
    {
      "cell_type": "code",
      "execution_count": 17,
      "metadata": {
        "id": "j8XdCnLovsCU"
      },
      "outputs": [],
      "source": [
        "model = Sequential()"
      ]
    },
    {
      "cell_type": "code",
      "execution_count": 18,
      "metadata": {
        "id": "YU4nWAUXvuax",
        "colab": {
          "base_uri": "https://localhost:8080/"
        },
        "outputId": "b7b851fa-bb7e-465d-e4f6-44961ade716d"
      },
      "outputs": [
        {
          "output_type": "stream",
          "name": "stderr",
          "text": [
            "/usr/local/lib/python3.11/dist-packages/keras/src/layers/reshaping/flatten.py:37: UserWarning: Do not pass an `input_shape`/`input_dim` argument to a layer. When using Sequential models, prefer using an `Input(shape)` object as the first layer in the model instead.\n",
            "  super().__init__(**kwargs)\n"
          ]
        }
      ],
      "source": [
        "model.add(Flatten(input_shape=(28, 28, 1)))"
      ]
    },
    {
      "cell_type": "code",
      "execution_count": 19,
      "metadata": {
        "id": "TYpqMStovwNA"
      },
      "outputs": [],
      "source": [
        "model.add(Dense(512, activation='relu'))"
      ]
    },
    {
      "cell_type": "code",
      "execution_count": 20,
      "metadata": {
        "id": "jKF1_sOgvzPq"
      },
      "outputs": [],
      "source": [
        "model.add(Dense(10, activation='softmax'))"
      ]
    },
    {
      "cell_type": "code",
      "execution_count": 21,
      "metadata": {
        "id": "vKXEYiPov0sH"
      },
      "outputs": [],
      "source": [
        "model.compile(optimizer='adam', loss='categorical_crossentropy', metrics=['accuracy'])"
      ]
    },
    {
      "cell_type": "code",
      "execution_count": 22,
      "metadata": {
        "id": "p_gWcILyv13W",
        "colab": {
          "base_uri": "https://localhost:8080/",
          "height": 232
        },
        "outputId": "724d4658-a6e7-424d-b8bd-b43ba974e362"
      },
      "outputs": [
        {
          "output_type": "display_data",
          "data": {
            "text/plain": [
              "\u001b[1mModel: \"sequential\"\u001b[0m\n"
            ],
            "text/html": [
              "<pre style=\"white-space:pre;overflow-x:auto;line-height:normal;font-family:Menlo,'DejaVu Sans Mono',consolas,'Courier New',monospace\"><span style=\"font-weight: bold\">Model: \"sequential\"</span>\n",
              "</pre>\n"
            ]
          },
          "metadata": {}
        },
        {
          "output_type": "display_data",
          "data": {
            "text/plain": [
              "┏━━━━━━━━━━━━━━━━━━━━━━━━━━━━━━━━━┳━━━━━━━━━━━━━━━━━━━━━━━━┳━━━━━━━━━━━━━━━┓\n",
              "┃\u001b[1m \u001b[0m\u001b[1mLayer (type)                   \u001b[0m\u001b[1m \u001b[0m┃\u001b[1m \u001b[0m\u001b[1mOutput Shape          \u001b[0m\u001b[1m \u001b[0m┃\u001b[1m \u001b[0m\u001b[1m      Param #\u001b[0m\u001b[1m \u001b[0m┃\n",
              "┡━━━━━━━━━━━━━━━━━━━━━━━━━━━━━━━━━╇━━━━━━━━━━━━━━━━━━━━━━━━╇━━━━━━━━━━━━━━━┩\n",
              "│ flatten (\u001b[38;5;33mFlatten\u001b[0m)               │ (\u001b[38;5;45mNone\u001b[0m, \u001b[38;5;34m784\u001b[0m)            │             \u001b[38;5;34m0\u001b[0m │\n",
              "├─────────────────────────────────┼────────────────────────┼───────────────┤\n",
              "│ dense (\u001b[38;5;33mDense\u001b[0m)                   │ (\u001b[38;5;45mNone\u001b[0m, \u001b[38;5;34m512\u001b[0m)            │       \u001b[38;5;34m401,920\u001b[0m │\n",
              "├─────────────────────────────────┼────────────────────────┼───────────────┤\n",
              "│ dense_1 (\u001b[38;5;33mDense\u001b[0m)                 │ (\u001b[38;5;45mNone\u001b[0m, \u001b[38;5;34m10\u001b[0m)             │         \u001b[38;5;34m5,130\u001b[0m │\n",
              "└─────────────────────────────────┴────────────────────────┴───────────────┘\n"
            ],
            "text/html": [
              "<pre style=\"white-space:pre;overflow-x:auto;line-height:normal;font-family:Menlo,'DejaVu Sans Mono',consolas,'Courier New',monospace\">┏━━━━━━━━━━━━━━━━━━━━━━━━━━━━━━━━━┳━━━━━━━━━━━━━━━━━━━━━━━━┳━━━━━━━━━━━━━━━┓\n",
              "┃<span style=\"font-weight: bold\"> Layer (type)                    </span>┃<span style=\"font-weight: bold\"> Output Shape           </span>┃<span style=\"font-weight: bold\">       Param # </span>┃\n",
              "┡━━━━━━━━━━━━━━━━━━━━━━━━━━━━━━━━━╇━━━━━━━━━━━━━━━━━━━━━━━━╇━━━━━━━━━━━━━━━┩\n",
              "│ flatten (<span style=\"color: #0087ff; text-decoration-color: #0087ff\">Flatten</span>)               │ (<span style=\"color: #00d7ff; text-decoration-color: #00d7ff\">None</span>, <span style=\"color: #00af00; text-decoration-color: #00af00\">784</span>)            │             <span style=\"color: #00af00; text-decoration-color: #00af00\">0</span> │\n",
              "├─────────────────────────────────┼────────────────────────┼───────────────┤\n",
              "│ dense (<span style=\"color: #0087ff; text-decoration-color: #0087ff\">Dense</span>)                   │ (<span style=\"color: #00d7ff; text-decoration-color: #00d7ff\">None</span>, <span style=\"color: #00af00; text-decoration-color: #00af00\">512</span>)            │       <span style=\"color: #00af00; text-decoration-color: #00af00\">401,920</span> │\n",
              "├─────────────────────────────────┼────────────────────────┼───────────────┤\n",
              "│ dense_1 (<span style=\"color: #0087ff; text-decoration-color: #0087ff\">Dense</span>)                 │ (<span style=\"color: #00d7ff; text-decoration-color: #00d7ff\">None</span>, <span style=\"color: #00af00; text-decoration-color: #00af00\">10</span>)             │         <span style=\"color: #00af00; text-decoration-color: #00af00\">5,130</span> │\n",
              "└─────────────────────────────────┴────────────────────────┴───────────────┘\n",
              "</pre>\n"
            ]
          },
          "metadata": {}
        },
        {
          "output_type": "display_data",
          "data": {
            "text/plain": [
              "\u001b[1m Total params: \u001b[0m\u001b[38;5;34m407,050\u001b[0m (1.55 MB)\n"
            ],
            "text/html": [
              "<pre style=\"white-space:pre;overflow-x:auto;line-height:normal;font-family:Menlo,'DejaVu Sans Mono',consolas,'Courier New',monospace\"><span style=\"font-weight: bold\"> Total params: </span><span style=\"color: #00af00; text-decoration-color: #00af00\">407,050</span> (1.55 MB)\n",
              "</pre>\n"
            ]
          },
          "metadata": {}
        },
        {
          "output_type": "display_data",
          "data": {
            "text/plain": [
              "\u001b[1m Trainable params: \u001b[0m\u001b[38;5;34m407,050\u001b[0m (1.55 MB)\n"
            ],
            "text/html": [
              "<pre style=\"white-space:pre;overflow-x:auto;line-height:normal;font-family:Menlo,'DejaVu Sans Mono',consolas,'Courier New',monospace\"><span style=\"font-weight: bold\"> Trainable params: </span><span style=\"color: #00af00; text-decoration-color: #00af00\">407,050</span> (1.55 MB)\n",
              "</pre>\n"
            ]
          },
          "metadata": {}
        },
        {
          "output_type": "display_data",
          "data": {
            "text/plain": [
              "\u001b[1m Non-trainable params: \u001b[0m\u001b[38;5;34m0\u001b[0m (0.00 B)\n"
            ],
            "text/html": [
              "<pre style=\"white-space:pre;overflow-x:auto;line-height:normal;font-family:Menlo,'DejaVu Sans Mono',consolas,'Courier New',monospace\"><span style=\"font-weight: bold\"> Non-trainable params: </span><span style=\"color: #00af00; text-decoration-color: #00af00\">0</span> (0.00 B)\n",
              "</pre>\n"
            ]
          },
          "metadata": {}
        }
      ],
      "source": [
        "model.summary()"
      ]
    },
    {
      "cell_type": "code",
      "source": [
        "model.fit(x_train, y_train, epochs=10, batch_size=128, validation_split=0.2)"
      ],
      "metadata": {
        "colab": {
          "base_uri": "https://localhost:8080/"
        },
        "id": "63hVeHB-nmoF",
        "outputId": "791546f2-fb12-4ffe-933b-383ac492db68"
      },
      "execution_count": 23,
      "outputs": [
        {
          "output_type": "stream",
          "name": "stdout",
          "text": [
            "Epoch 1/10\n",
            "\u001b[1m375/375\u001b[0m \u001b[32m━━━━━━━━━━━━━━━━━━━━\u001b[0m\u001b[37m\u001b[0m \u001b[1m4s\u001b[0m 5ms/step - accuracy: 0.8568 - loss: 0.5160 - val_accuracy: 0.9556 - val_loss: 0.1567\n",
            "Epoch 2/10\n",
            "\u001b[1m375/375\u001b[0m \u001b[32m━━━━━━━━━━━━━━━━━━━━\u001b[0m\u001b[37m\u001b[0m \u001b[1m4s\u001b[0m 4ms/step - accuracy: 0.9631 - loss: 0.1311 - val_accuracy: 0.9652 - val_loss: 0.1161\n",
            "Epoch 3/10\n",
            "\u001b[1m375/375\u001b[0m \u001b[32m━━━━━━━━━━━━━━━━━━━━\u001b[0m\u001b[37m\u001b[0m \u001b[1m2s\u001b[0m 3ms/step - accuracy: 0.9771 - loss: 0.0821 - val_accuracy: 0.9704 - val_loss: 0.0958\n",
            "Epoch 4/10\n",
            "\u001b[1m375/375\u001b[0m \u001b[32m━━━━━━━━━━━━━━━━━━━━\u001b[0m\u001b[37m\u001b[0m \u001b[1m1s\u001b[0m 3ms/step - accuracy: 0.9832 - loss: 0.0578 - val_accuracy: 0.9726 - val_loss: 0.0902\n",
            "Epoch 5/10\n",
            "\u001b[1m375/375\u001b[0m \u001b[32m━━━━━━━━━━━━━━━━━━━━\u001b[0m\u001b[37m\u001b[0m \u001b[1m1s\u001b[0m 3ms/step - accuracy: 0.9888 - loss: 0.0405 - val_accuracy: 0.9755 - val_loss: 0.0763\n",
            "Epoch 6/10\n",
            "\u001b[1m375/375\u001b[0m \u001b[32m━━━━━━━━━━━━━━━━━━━━\u001b[0m\u001b[37m\u001b[0m \u001b[1m1s\u001b[0m 3ms/step - accuracy: 0.9918 - loss: 0.0300 - val_accuracy: 0.9771 - val_loss: 0.0778\n",
            "Epoch 7/10\n",
            "\u001b[1m375/375\u001b[0m \u001b[32m━━━━━━━━━━━━━━━━━━━━\u001b[0m\u001b[37m\u001b[0m \u001b[1m1s\u001b[0m 3ms/step - accuracy: 0.9945 - loss: 0.0222 - val_accuracy: 0.9770 - val_loss: 0.0784\n",
            "Epoch 8/10\n",
            "\u001b[1m375/375\u001b[0m \u001b[32m━━━━━━━━━━━━━━━━━━━━\u001b[0m\u001b[37m\u001b[0m \u001b[1m1s\u001b[0m 3ms/step - accuracy: 0.9965 - loss: 0.0161 - val_accuracy: 0.9793 - val_loss: 0.0733\n",
            "Epoch 9/10\n",
            "\u001b[1m375/375\u001b[0m \u001b[32m━━━━━━━━━━━━━━━━━━━━\u001b[0m\u001b[37m\u001b[0m \u001b[1m1s\u001b[0m 3ms/step - accuracy: 0.9978 - loss: 0.0122 - val_accuracy: 0.9762 - val_loss: 0.0794\n",
            "Epoch 10/10\n",
            "\u001b[1m375/375\u001b[0m \u001b[32m━━━━━━━━━━━━━━━━━━━━\u001b[0m\u001b[37m\u001b[0m \u001b[1m1s\u001b[0m 3ms/step - accuracy: 0.9982 - loss: 0.0097 - val_accuracy: 0.9796 - val_loss: 0.0749\n"
          ]
        },
        {
          "output_type": "execute_result",
          "data": {
            "text/plain": [
              "<keras.src.callbacks.history.History at 0x7e9feb13ce10>"
            ]
          },
          "metadata": {},
          "execution_count": 23
        }
      ]
    },
    {
      "cell_type": "code",
      "source": [
        "score = model.evaluate(x_test, y_test, batch_size=128)\n",
        "print(\"Test loss:\", score[0])\n",
        "print(\"Test accuracy:\", score[1])"
      ],
      "metadata": {
        "colab": {
          "base_uri": "https://localhost:8080/"
        },
        "id": "nxGJGSKdnrCJ",
        "outputId": "f8c86e66-9684-40a3-8437-10a7c473a261"
      },
      "execution_count": 24,
      "outputs": [
        {
          "output_type": "stream",
          "name": "stdout",
          "text": [
            "\u001b[1m79/79\u001b[0m \u001b[32m━━━━━━━━━━━━━━━━━━━━\u001b[0m\u001b[37m\u001b[0m \u001b[1m1s\u001b[0m 7ms/step - accuracy: 0.9777 - loss: 0.0751\n",
            "Test loss: 0.06510699540376663\n",
            "Test accuracy: 0.9807999730110168\n"
          ]
        }
      ]
    },
    {
      "cell_type": "code",
      "source": [
        "predictions = model.predict(x_test)\n",
        "predicted_classes = np.argmax(predictions, axis=1)\n",
        "print(predicted_classes)"
      ],
      "metadata": {
        "colab": {
          "base_uri": "https://localhost:8080/"
        },
        "id": "exP7NPSOnuJA",
        "outputId": "3bade8b4-f4d5-4837-9af3-6d84270c043c"
      },
      "execution_count": 25,
      "outputs": [
        {
          "output_type": "stream",
          "name": "stdout",
          "text": [
            "\u001b[1m313/313\u001b[0m \u001b[32m━━━━━━━━━━━━━━━━━━━━\u001b[0m\u001b[37m\u001b[0m \u001b[1m1s\u001b[0m 2ms/step\n",
            "[7 2 1 ... 4 5 6]\n"
          ]
        }
      ]
    },
    {
      "cell_type": "code",
      "execution_count": 26,
      "metadata": {
        "id": "l7cLOkKBwMaf",
        "colab": {
          "base_uri": "https://localhost:8080/",
          "height": 512,
          "referenced_widgets": [
            "5866358b962c4115afc3ad365d356388",
            "c34036a277e24833bf07267db79d7a4b",
            "eaae74fa52014f64bc677f055ddfc664",
            "afd768d4e9a84404bc682187f5f64478",
            "a44a5f9df1e842bd973ae32e93cc9541",
            "6bc1da08801c4a67bad9719cef98a6c7",
            "e8b99e06e9134845a0f199e576c8a5cc",
            "ae2e6602cc8b4091a51a0e600ce6d816",
            "1f59d57930554b09815811d32b67b224",
            "308342662c5b4bf39cdd641533749f33"
          ]
        },
        "outputId": "237d576e-d672-499e-b59e-721a4b90213e"
      },
      "outputs": [
        {
          "output_type": "display_data",
          "data": {
            "text/plain": [
              "interactive(children=(IntSlider(value=4999, description='測試編號', max=9999), Button(description='Run Interact', …"
            ],
            "application/vnd.jupyter.widget-view+json": {
              "version_major": 2,
              "version_minor": 0,
              "model_id": "5866358b962c4115afc3ad365d356388"
            }
          },
          "metadata": {}
        }
      ],
      "source": [
        "import matplotlib.pyplot as plt\n",
        "from ipywidgets import interact_manual\n",
        "\n",
        "\n",
        "def test(測試編號):\n",
        "    plt.imshow(x_test[測試編號].reshape(28, 28), cmap='Greys')\n",
        "    predicted_class = predicted_classes[測試編號]  # Get the predicted class for the specified index\n",
        "    print(\"神經網路判斷為:\", predicted_class)\n",
        "\n",
        "def visualize_and_predict(index):\n",
        "    plt.imshow(x_test[index].reshape(28, 28), cmap='Greys')\n",
        "    predicted_class = predicted_classes[index]\n",
        "    print(\"神經網路判斷為:\", predicted_class)\n",
        "    plt.show()\n",
        "\n",
        "interact_manual(test, 測試編號 = (0, 9999));"
      ]
    },
    {
      "cell_type": "code",
      "execution_count": null,
      "metadata": {
        "id": "MfrzUIIBwTBm"
      },
      "outputs": [],
      "source": [
        "model_json = model.to_json()\n",
        "open('handwriting_model_architecture.json', 'w').write(model_json)\n",
        "model.save_weights('handwriting_model_weights.h5')"
      ]
    },
    {
      "cell_type": "code",
      "execution_count": null,
      "metadata": {
        "id": "1aP96ievwXoo"
      },
      "outputs": [],
      "source": []
    }
  ],
  "metadata": {
    "accelerator": "GPU",
    "colab": {
      "provenance": [],
      "authorship_tag": "ABX9TyNQxWpcnIain9JWnNys/noq",
      "include_colab_link": true
    },
    "kernelspec": {
      "display_name": "Python 3",
      "name": "python3"
    },
    "widgets": {
      "application/vnd.jupyter.widget-state+json": {
        "5866358b962c4115afc3ad365d356388": {
          "model_module": "@jupyter-widgets/controls",
          "model_name": "VBoxModel",
          "model_module_version": "1.5.0",
          "state": {
            "_dom_classes": [
              "widget-interact"
            ],
            "_model_module": "@jupyter-widgets/controls",
            "_model_module_version": "1.5.0",
            "_model_name": "VBoxModel",
            "_view_count": null,
            "_view_module": "@jupyter-widgets/controls",
            "_view_module_version": "1.5.0",
            "_view_name": "VBoxView",
            "box_style": "",
            "children": [
              "IPY_MODEL_c34036a277e24833bf07267db79d7a4b",
              "IPY_MODEL_eaae74fa52014f64bc677f055ddfc664",
              "IPY_MODEL_afd768d4e9a84404bc682187f5f64478"
            ],
            "layout": "IPY_MODEL_a44a5f9df1e842bd973ae32e93cc9541"
          }
        },
        "c34036a277e24833bf07267db79d7a4b": {
          "model_module": "@jupyter-widgets/controls",
          "model_name": "IntSliderModel",
          "model_module_version": "1.5.0",
          "state": {
            "_dom_classes": [],
            "_model_module": "@jupyter-widgets/controls",
            "_model_module_version": "1.5.0",
            "_model_name": "IntSliderModel",
            "_view_count": null,
            "_view_module": "@jupyter-widgets/controls",
            "_view_module_version": "1.5.0",
            "_view_name": "IntSliderView",
            "continuous_update": true,
            "description": "測試編號",
            "description_tooltip": null,
            "disabled": false,
            "layout": "IPY_MODEL_6bc1da08801c4a67bad9719cef98a6c7",
            "max": 9999,
            "min": 0,
            "orientation": "horizontal",
            "readout": true,
            "readout_format": "d",
            "step": 1,
            "style": "IPY_MODEL_e8b99e06e9134845a0f199e576c8a5cc",
            "value": 8853
          }
        },
        "eaae74fa52014f64bc677f055ddfc664": {
          "model_module": "@jupyter-widgets/controls",
          "model_name": "ButtonModel",
          "model_module_version": "1.5.0",
          "state": {
            "_dom_classes": [],
            "_model_module": "@jupyter-widgets/controls",
            "_model_module_version": "1.5.0",
            "_model_name": "ButtonModel",
            "_view_count": null,
            "_view_module": "@jupyter-widgets/controls",
            "_view_module_version": "1.5.0",
            "_view_name": "ButtonView",
            "button_style": "",
            "description": "Run Interact",
            "disabled": false,
            "icon": "",
            "layout": "IPY_MODEL_ae2e6602cc8b4091a51a0e600ce6d816",
            "style": "IPY_MODEL_1f59d57930554b09815811d32b67b224",
            "tooltip": ""
          }
        },
        "afd768d4e9a84404bc682187f5f64478": {
          "model_module": "@jupyter-widgets/output",
          "model_name": "OutputModel",
          "model_module_version": "1.0.0",
          "state": {
            "_dom_classes": [],
            "_model_module": "@jupyter-widgets/output",
            "_model_module_version": "1.0.0",
            "_model_name": "OutputModel",
            "_view_count": null,
            "_view_module": "@jupyter-widgets/output",
            "_view_module_version": "1.0.0",
            "_view_name": "OutputView",
            "layout": "IPY_MODEL_308342662c5b4bf39cdd641533749f33",
            "msg_id": "",
            "outputs": [
              {
                "output_type": "stream",
                "name": "stdout",
                "text": [
                  "神經網路判斷為: 5\n"
                ]
              },
              {
                "output_type": "display_data",
                "data": {
                  "text/plain": "<Figure size 640x480 with 1 Axes>",
                  "image/png": "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\n"
                },
                "metadata": {}
              }
            ]
          }
        },
        "a44a5f9df1e842bd973ae32e93cc9541": {
          "model_module": "@jupyter-widgets/base",
          "model_name": "LayoutModel",
          "model_module_version": "1.2.0",
          "state": {
            "_model_module": "@jupyter-widgets/base",
            "_model_module_version": "1.2.0",
            "_model_name": "LayoutModel",
            "_view_count": null,
            "_view_module": "@jupyter-widgets/base",
            "_view_module_version": "1.2.0",
            "_view_name": "LayoutView",
            "align_content": null,
            "align_items": null,
            "align_self": null,
            "border": null,
            "bottom": null,
            "display": null,
            "flex": null,
            "flex_flow": null,
            "grid_area": null,
            "grid_auto_columns": null,
            "grid_auto_flow": null,
            "grid_auto_rows": null,
            "grid_column": null,
            "grid_gap": null,
            "grid_row": null,
            "grid_template_areas": null,
            "grid_template_columns": null,
            "grid_template_rows": null,
            "height": null,
            "justify_content": null,
            "justify_items": null,
            "left": null,
            "margin": null,
            "max_height": null,
            "max_width": null,
            "min_height": null,
            "min_width": null,
            "object_fit": null,
            "object_position": null,
            "order": null,
            "overflow": null,
            "overflow_x": null,
            "overflow_y": null,
            "padding": null,
            "right": null,
            "top": null,
            "visibility": null,
            "width": null
          }
        },
        "6bc1da08801c4a67bad9719cef98a6c7": {
          "model_module": "@jupyter-widgets/base",
          "model_name": "LayoutModel",
          "model_module_version": "1.2.0",
          "state": {
            "_model_module": "@jupyter-widgets/base",
            "_model_module_version": "1.2.0",
            "_model_name": "LayoutModel",
            "_view_count": null,
            "_view_module": "@jupyter-widgets/base",
            "_view_module_version": "1.2.0",
            "_view_name": "LayoutView",
            "align_content": null,
            "align_items": null,
            "align_self": null,
            "border": null,
            "bottom": null,
            "display": null,
            "flex": null,
            "flex_flow": null,
            "grid_area": null,
            "grid_auto_columns": null,
            "grid_auto_flow": null,
            "grid_auto_rows": null,
            "grid_column": null,
            "grid_gap": null,
            "grid_row": null,
            "grid_template_areas": null,
            "grid_template_columns": null,
            "grid_template_rows": null,
            "height": null,
            "justify_content": null,
            "justify_items": null,
            "left": null,
            "margin": null,
            "max_height": null,
            "max_width": null,
            "min_height": null,
            "min_width": null,
            "object_fit": null,
            "object_position": null,
            "order": null,
            "overflow": null,
            "overflow_x": null,
            "overflow_y": null,
            "padding": null,
            "right": null,
            "top": null,
            "visibility": null,
            "width": null
          }
        },
        "e8b99e06e9134845a0f199e576c8a5cc": {
          "model_module": "@jupyter-widgets/controls",
          "model_name": "SliderStyleModel",
          "model_module_version": "1.5.0",
          "state": {
            "_model_module": "@jupyter-widgets/controls",
            "_model_module_version": "1.5.0",
            "_model_name": "SliderStyleModel",
            "_view_count": null,
            "_view_module": "@jupyter-widgets/base",
            "_view_module_version": "1.2.0",
            "_view_name": "StyleView",
            "description_width": "",
            "handle_color": null
          }
        },
        "ae2e6602cc8b4091a51a0e600ce6d816": {
          "model_module": "@jupyter-widgets/base",
          "model_name": "LayoutModel",
          "model_module_version": "1.2.0",
          "state": {
            "_model_module": "@jupyter-widgets/base",
            "_model_module_version": "1.2.0",
            "_model_name": "LayoutModel",
            "_view_count": null,
            "_view_module": "@jupyter-widgets/base",
            "_view_module_version": "1.2.0",
            "_view_name": "LayoutView",
            "align_content": null,
            "align_items": null,
            "align_self": null,
            "border": null,
            "bottom": null,
            "display": null,
            "flex": null,
            "flex_flow": null,
            "grid_area": null,
            "grid_auto_columns": null,
            "grid_auto_flow": null,
            "grid_auto_rows": null,
            "grid_column": null,
            "grid_gap": null,
            "grid_row": null,
            "grid_template_areas": null,
            "grid_template_columns": null,
            "grid_template_rows": null,
            "height": null,
            "justify_content": null,
            "justify_items": null,
            "left": null,
            "margin": null,
            "max_height": null,
            "max_width": null,
            "min_height": null,
            "min_width": null,
            "object_fit": null,
            "object_position": null,
            "order": null,
            "overflow": null,
            "overflow_x": null,
            "overflow_y": null,
            "padding": null,
            "right": null,
            "top": null,
            "visibility": null,
            "width": null
          }
        },
        "1f59d57930554b09815811d32b67b224": {
          "model_module": "@jupyter-widgets/controls",
          "model_name": "ButtonStyleModel",
          "model_module_version": "1.5.0",
          "state": {
            "_model_module": "@jupyter-widgets/controls",
            "_model_module_version": "1.5.0",
            "_model_name": "ButtonStyleModel",
            "_view_count": null,
            "_view_module": "@jupyter-widgets/base",
            "_view_module_version": "1.2.0",
            "_view_name": "StyleView",
            "button_color": null,
            "font_weight": ""
          }
        },
        "308342662c5b4bf39cdd641533749f33": {
          "model_module": "@jupyter-widgets/base",
          "model_name": "LayoutModel",
          "model_module_version": "1.2.0",
          "state": {
            "_model_module": "@jupyter-widgets/base",
            "_model_module_version": "1.2.0",
            "_model_name": "LayoutModel",
            "_view_count": null,
            "_view_module": "@jupyter-widgets/base",
            "_view_module_version": "1.2.0",
            "_view_name": "LayoutView",
            "align_content": null,
            "align_items": null,
            "align_self": null,
            "border": null,
            "bottom": null,
            "display": null,
            "flex": null,
            "flex_flow": null,
            "grid_area": null,
            "grid_auto_columns": null,
            "grid_auto_flow": null,
            "grid_auto_rows": null,
            "grid_column": null,
            "grid_gap": null,
            "grid_row": null,
            "grid_template_areas": null,
            "grid_template_columns": null,
            "grid_template_rows": null,
            "height": null,
            "justify_content": null,
            "justify_items": null,
            "left": null,
            "margin": null,
            "max_height": null,
            "max_width": null,
            "min_height": null,
            "min_width": null,
            "object_fit": null,
            "object_position": null,
            "order": null,
            "overflow": null,
            "overflow_x": null,
            "overflow_y": null,
            "padding": null,
            "right": null,
            "top": null,
            "visibility": null,
            "width": null
          }
        }
      }
    }
  },
  "nbformat": 4,
  "nbformat_minor": 0
}